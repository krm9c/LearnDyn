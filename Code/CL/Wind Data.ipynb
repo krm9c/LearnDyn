{
 "cells": [
  {
   "cell_type": "code",
   "execution_count": 1,
   "id": "radio-stocks",
   "metadata": {},
   "outputs": [],
   "source": [
    "import numpy as np"
   ]
  },
  {
   "cell_type": "code",
   "execution_count": 2,
   "id": "flying-radius",
   "metadata": {},
   "outputs": [],
   "source": [
    "import os\n",
    "\n",
    "filelist =[]\n",
    "\n",
    "import pandas as pd\n",
    "for subdir, dirs, files in os.walk('/gpfs/jlse-fs0/users/kraghavan/Data_WInd/Datasets'):\n",
    "    for filename in files:\n",
    "        filepath = subdir + os.sep + filename\n",
    "        filelist.append(filepath)\n",
    "        "
   ]
  },
  {
   "cell_type": "code",
   "execution_count": 80,
   "id": "surface-muslim",
   "metadata": {},
   "outputs": [
    {
     "name": "stdout",
     "output_type": "stream",
     "text": [
      "/gpfs/jlse-fs0/users/kraghavan/Data_WInd/Datasets/Data_Experiment_2/pi5.xlsx\n"
     ]
    }
   ],
   "source": [
    "print(filelist[1])\n",
    "\n",
    "from scipy.ndimage import gaussian_filter1d"
   ]
  },
  {
   "cell_type": "code",
   "execution_count": 97,
   "id": "destroyed-arkansas",
   "metadata": {},
   "outputs": [
    {
     "name": "stdout",
     "output_type": "stream",
     "text": [
      "/gpfs/jlse-fs0/users/kraghavan/Data_WInd/Datasets/Data_Experiment_2/pi3.xlsx\n",
      "/gpfs/jlse-fs0/users/kraghavan/Data_WInd/Datasets/Data_Experiment_1/pi2.xlsx\n",
      "/gpfs/jlse-fs0/users/kraghavan/Data_WInd/Datasets/Data_Experiment_1/pi2.xlsx\n",
      "/gpfs/jlse-fs0/users/kraghavan/Data_WInd/Datasets/Data_Experiment_1/pi5.xlsx\n",
      "/gpfs/jlse-fs0/users/kraghavan/Data_WInd/Datasets/Data_Experiment_2/pi2.xlsx\n",
      "/gpfs/jlse-fs0/users/kraghavan/Data_WInd/Datasets/Data_Experiment_1/pi5.xlsx\n",
      "/gpfs/jlse-fs0/users/kraghavan/Data_WInd/Datasets/Data_Experiment_1/pi5.xlsx\n",
      "/gpfs/jlse-fs0/users/kraghavan/Data_WInd/Datasets/Data_Experiment_2/pi2.xlsx\n",
      "/gpfs/jlse-fs0/users/kraghavan/Data_WInd/Datasets/Data_Experiment_2/pi3.xlsx\n",
      "/gpfs/jlse-fs0/users/kraghavan/Data_WInd/Datasets/Data_Experiment_1/pi5.xlsx\n",
      "/gpfs/jlse-fs0/users/kraghavan/Data_WInd/Datasets/Data_Experiment_2/pi4.xlsx\n",
      "/gpfs/jlse-fs0/users/kraghavan/Data_WInd/Datasets/Data_Experiment_2/pi4.xlsx\n",
      "/gpfs/jlse-fs0/users/kraghavan/Data_WInd/Datasets/Data_Experiment_2/pi3.xlsx\n",
      "/gpfs/jlse-fs0/users/kraghavan/Data_WInd/Datasets/Data_Experiment_1/pi5.xlsx\n",
      "/gpfs/jlse-fs0/users/kraghavan/Data_WInd/Datasets/Data_Experiment_1/pi2.xlsx\n",
      "/gpfs/jlse-fs0/users/kraghavan/Data_WInd/Datasets/Data_Experiment_1/pi5.xlsx\n",
      "/gpfs/jlse-fs0/users/kraghavan/Data_WInd/Datasets/Data_Experiment_1/pi4.xlsx\n",
      "/gpfs/jlse-fs0/users/kraghavan/Data_WInd/Datasets/Data_Experiment_1/pi5.xlsx\n",
      "/gpfs/jlse-fs0/users/kraghavan/Data_WInd/Datasets/Data_Experiment_2/pi2.xlsx\n",
      "/gpfs/jlse-fs0/users/kraghavan/Data_WInd/Datasets/Data_Experiment_2/pi3.xlsx\n",
      "/gpfs/jlse-fs0/users/kraghavan/Data_WInd/Datasets/Data_Experiment_1/pi4.xlsx\n",
      "/gpfs/jlse-fs0/users/kraghavan/Data_WInd/Datasets/Data_Experiment_2/pi2.xlsx\n",
      "/gpfs/jlse-fs0/users/kraghavan/Data_WInd/Datasets/Data_Experiment_1/pi4.xlsx\n",
      "/gpfs/jlse-fs0/users/kraghavan/Data_WInd/Datasets/Data_Experiment_2/pi2.xlsx\n",
      "/gpfs/jlse-fs0/users/kraghavan/Data_WInd/Datasets/Data_Experiment_2/pi2.xlsx\n",
      "/gpfs/jlse-fs0/users/kraghavan/Data_WInd/Datasets/Data_Experiment_1/pi4.xlsx\n",
      "/gpfs/jlse-fs0/users/kraghavan/Data_WInd/Datasets/Data_Experiment_1/pi5.xlsx\n",
      "/gpfs/jlse-fs0/users/kraghavan/Data_WInd/Datasets/Data_Experiment_1/pi2.xlsx\n",
      "/gpfs/jlse-fs0/users/kraghavan/Data_WInd/Datasets/Data_Experiment_1/pi2.xlsx\n",
      "/gpfs/jlse-fs0/users/kraghavan/Data_WInd/Datasets/Data_Experiment_1/pi4.xlsx\n",
      "/gpfs/jlse-fs0/users/kraghavan/Data_WInd/Datasets/Data_Experiment_1/pi5.xlsx\n",
      "/gpfs/jlse-fs0/users/kraghavan/Data_WInd/Datasets/Data_Experiment_1/pi2.xlsx\n",
      "/gpfs/jlse-fs0/users/kraghavan/Data_WInd/Datasets/Data_Experiment_1/pi5.xlsx\n",
      "/gpfs/jlse-fs0/users/kraghavan/Data_WInd/Datasets/Data_Experiment_2/pi5.xlsx\n",
      "/gpfs/jlse-fs0/users/kraghavan/Data_WInd/Datasets/Data_Experiment_2/pi3.xlsx\n",
      "/gpfs/jlse-fs0/users/kraghavan/Data_WInd/Datasets/Data_Experiment_1/pi5.xlsx\n",
      "/gpfs/jlse-fs0/users/kraghavan/Data_WInd/Datasets/Data_Experiment_1/pi5.xlsx\n",
      "/gpfs/jlse-fs0/users/kraghavan/Data_WInd/Datasets/Data_Experiment_2/pi4.xlsx\n",
      "/gpfs/jlse-fs0/users/kraghavan/Data_WInd/Datasets/Data_Experiment_2/pi4.xlsx\n",
      "/gpfs/jlse-fs0/users/kraghavan/Data_WInd/Datasets/Data_Experiment_2/pi2.xlsx\n",
      "/gpfs/jlse-fs0/users/kraghavan/Data_WInd/Datasets/Data_Experiment_2/pi2.xlsx\n",
      "/gpfs/jlse-fs0/users/kraghavan/Data_WInd/Datasets/Data_Experiment_1/pi5.xlsx\n",
      "/gpfs/jlse-fs0/users/kraghavan/Data_WInd/Datasets/Data_Experiment_1/pi5.xlsx\n",
      "/gpfs/jlse-fs0/users/kraghavan/Data_WInd/Datasets/Data_Experiment_1/pi5.xlsx\n",
      "/gpfs/jlse-fs0/users/kraghavan/Data_WInd/Datasets/Data_Experiment_1/pi4.xlsx\n",
      "/gpfs/jlse-fs0/users/kraghavan/Data_WInd/Datasets/Data_Experiment_2/pi2.xlsx\n",
      "/gpfs/jlse-fs0/users/kraghavan/Data_WInd/Datasets/Data_Experiment_2/pi5.xlsx\n",
      "/gpfs/jlse-fs0/users/kraghavan/Data_WInd/Datasets/Data_Experiment_2/pi2.xlsx\n",
      "/gpfs/jlse-fs0/users/kraghavan/Data_WInd/Datasets/Data_Experiment_1/pi5.xlsx\n",
      "/gpfs/jlse-fs0/users/kraghavan/Data_WInd/Datasets/Data_Experiment_1/pi5.xlsx\n",
      "/gpfs/jlse-fs0/users/kraghavan/Data_WInd/Datasets/Data_Experiment_1/pi5.xlsx\n",
      "/gpfs/jlse-fs0/users/kraghavan/Data_WInd/Datasets/Data_Experiment_2/pi3.xlsx\n",
      "/gpfs/jlse-fs0/users/kraghavan/Data_WInd/Datasets/Data_Experiment_2/pi3.xlsx\n",
      "/gpfs/jlse-fs0/users/kraghavan/Data_WInd/Datasets/Data_Experiment_1/pi5.xlsx\n",
      "/gpfs/jlse-fs0/users/kraghavan/Data_WInd/Datasets/Data_Experiment_1/pi2.xlsx\n",
      "/gpfs/jlse-fs0/users/kraghavan/Data_WInd/Datasets/Data_Experiment_2/pi2.xlsx\n",
      "/gpfs/jlse-fs0/users/kraghavan/Data_WInd/Datasets/Data_Experiment_2/pi2.xlsx\n",
      "/gpfs/jlse-fs0/users/kraghavan/Data_WInd/Datasets/Data_Experiment_2/pi2.xlsx\n",
      "/gpfs/jlse-fs0/users/kraghavan/Data_WInd/Datasets/Data_Experiment_2/pi3.xlsx\n",
      "/gpfs/jlse-fs0/users/kraghavan/Data_WInd/Datasets/Data_Experiment_2/pi3.xlsx\n",
      "/gpfs/jlse-fs0/users/kraghavan/Data_WInd/Datasets/Data_Experiment_2/pi5.xlsx\n",
      "/gpfs/jlse-fs0/users/kraghavan/Data_WInd/Datasets/Data_Experiment_2/pi2.xlsx\n",
      "/gpfs/jlse-fs0/users/kraghavan/Data_WInd/Datasets/Data_Experiment_2/pi3.xlsx\n",
      "/gpfs/jlse-fs0/users/kraghavan/Data_WInd/Datasets/Data_Experiment_2/pi2.xlsx\n",
      "/gpfs/jlse-fs0/users/kraghavan/Data_WInd/Datasets/Data_Experiment_1/pi4.xlsx\n",
      "/gpfs/jlse-fs0/users/kraghavan/Data_WInd/Datasets/Data_Experiment_1/pi4.xlsx\n",
      "/gpfs/jlse-fs0/users/kraghavan/Data_WInd/Datasets/Data_Experiment_1/pi4.xlsx\n",
      "/gpfs/jlse-fs0/users/kraghavan/Data_WInd/Datasets/Data_Experiment_2/pi3.xlsx\n",
      "/gpfs/jlse-fs0/users/kraghavan/Data_WInd/Datasets/Data_Experiment_2/pi4.xlsx\n",
      "/gpfs/jlse-fs0/users/kraghavan/Data_WInd/Datasets/Data_Experiment_2/pi4.xlsx\n",
      "/gpfs/jlse-fs0/users/kraghavan/Data_WInd/Datasets/Data_Experiment_1/pi5.xlsx\n",
      "/gpfs/jlse-fs0/users/kraghavan/Data_WInd/Datasets/Data_Experiment_1/pi2.xlsx\n",
      "/gpfs/jlse-fs0/users/kraghavan/Data_WInd/Datasets/Data_Experiment_2/pi4.xlsx\n",
      "/gpfs/jlse-fs0/users/kraghavan/Data_WInd/Datasets/Data_Experiment_1/pi5.xlsx\n",
      "/gpfs/jlse-fs0/users/kraghavan/Data_WInd/Datasets/Data_Experiment_2/pi4.xlsx\n",
      "/gpfs/jlse-fs0/users/kraghavan/Data_WInd/Datasets/Data_Experiment_2/pi4.xlsx\n",
      "/gpfs/jlse-fs0/users/kraghavan/Data_WInd/Datasets/Data_Experiment_2/pi2.xlsx\n",
      "/gpfs/jlse-fs0/users/kraghavan/Data_WInd/Datasets/Data_Experiment_2/pi4.xlsx\n",
      "/gpfs/jlse-fs0/users/kraghavan/Data_WInd/Datasets/Data_Experiment_2/pi3.xlsx\n",
      "/gpfs/jlse-fs0/users/kraghavan/Data_WInd/Datasets/Data_Experiment_2/pi3.xlsx\n",
      "/gpfs/jlse-fs0/users/kraghavan/Data_WInd/Datasets/Data_Experiment_2/pi3.xlsx\n",
      "/gpfs/jlse-fs0/users/kraghavan/Data_WInd/Datasets/Data_Experiment_1/pi4.xlsx\n",
      "/gpfs/jlse-fs0/users/kraghavan/Data_WInd/Datasets/Data_Experiment_2/pi5.xlsx\n",
      "/gpfs/jlse-fs0/users/kraghavan/Data_WInd/Datasets/Data_Experiment_1/pi2.xlsx\n",
      "/gpfs/jlse-fs0/users/kraghavan/Data_WInd/Datasets/Data_Experiment_1/pi5.xlsx\n",
      "/gpfs/jlse-fs0/users/kraghavan/Data_WInd/Datasets/Data_Experiment_1/pi4.xlsx\n",
      "/gpfs/jlse-fs0/users/kraghavan/Data_WInd/Datasets/Data_Experiment_1/pi5.xlsx\n",
      "/gpfs/jlse-fs0/users/kraghavan/Data_WInd/Datasets/Data_Experiment_2/pi2.xlsx\n",
      "/gpfs/jlse-fs0/users/kraghavan/Data_WInd/Datasets/Data_Experiment_1/pi5.xlsx\n",
      "/gpfs/jlse-fs0/users/kraghavan/Data_WInd/Datasets/Data_Experiment_2/pi3.xlsx\n",
      "/gpfs/jlse-fs0/users/kraghavan/Data_WInd/Datasets/Data_Experiment_2/pi3.xlsx\n",
      "/gpfs/jlse-fs0/users/kraghavan/Data_WInd/Datasets/Data_Experiment_1/pi5.xlsx\n",
      "/gpfs/jlse-fs0/users/kraghavan/Data_WInd/Datasets/Data_Experiment_1/pi2.xlsx\n",
      "/gpfs/jlse-fs0/users/kraghavan/Data_WInd/Datasets/Data_Experiment_1/pi5.xlsx\n",
      "/gpfs/jlse-fs0/users/kraghavan/Data_WInd/Datasets/Data_Experiment_2/pi3.xlsx\n",
      "/gpfs/jlse-fs0/users/kraghavan/Data_WInd/Datasets/Data_Experiment_2/pi3.xlsx\n",
      "/gpfs/jlse-fs0/users/kraghavan/Data_WInd/Datasets/Data_Experiment_1/pi5.xlsx\n",
      "/gpfs/jlse-fs0/users/kraghavan/Data_WInd/Datasets/Data_Experiment_2/pi4.xlsx\n",
      "/gpfs/jlse-fs0/users/kraghavan/Data_WInd/Datasets/Data_Experiment_1/pi5.xlsx\n",
      "/gpfs/jlse-fs0/users/kraghavan/Data_WInd/Datasets/Data_Experiment_2/pi4.xlsx\n"
     ]
    }
   ],
   "source": [
    "data ={}\n",
    "tid = 0\n",
    "list_x = []\n",
    "list_y = []\n",
    "dataset = {}\n",
    "for i in range(100):\n",
    "    tid = np.random.randint(1,8)\n",
    "    print(filelist[tid])\n",
    "    df = pd.read_excel(filelist[tid], engine='openpyxl')\n",
    "    df = df.replace(to_replace='None', value=np.nan).dropna()\n",
    "    df = df.replace(to_replace=' None', value=np.nan).dropna()\n",
    "    df = np.array(df)\n",
    "    x_temp = gaussian_filter1d(df[:,1].astype(np.float32).reshape([-1,1]),50)\n",
    "    y_next = gaussian_filter1d(df[:,2].astype(np.float32).reshape([-1,1]),50)\n",
    "    pjs = x_temp+np.random.normal(0,0.0000001,size = x_temp.shape)\n",
    "    dataset['task'+str(i)] = (pjs, y_next)        "
   ]
  },
  {
   "cell_type": "code",
   "execution_count": 98,
   "id": "hairy-intermediate",
   "metadata": {},
   "outputs": [
    {
     "name": "stdout",
     "output_type": "stream",
     "text": [
      "1\n"
     ]
    }
   ],
   "source": [
    "print(x_temp.shape[1])"
   ]
  },
  {
   "cell_type": "code",
   "execution_count": 99,
   "id": "improved-guatemala",
   "metadata": {},
   "outputs": [],
   "source": [
    "import pickle\n",
    "with open('/gpfs/jlse-fs0/users/kraghavan/Continual/Wind.p', 'wb') as fp:\n",
    "    pickle.dump(dataset, fp, protocol=pickle.HIGHEST_PROTOCOL)"
   ]
  },
  {
   "cell_type": "code",
   "execution_count": 24,
   "id": "golden-gamma",
   "metadata": {},
   "outputs": [
    {
     "name": "stdout",
     "output_type": "stream",
     "text": [
      "dict_keys(['task1', 'task2', 'task3', 'task4', 'task5', 'task6', 'task7', 'task8'])\n"
     ]
    }
   ],
   "source": [
    "print(data.keys())"
   ]
  },
  {
   "cell_type": "code",
   "execution_count": 6,
   "id": "national-forwarding",
   "metadata": {},
   "outputs": [
    {
     "name": "stdout",
     "output_type": "stream",
     "text": [
      "                                Device  Humidity  Temperature  Experiment  \\\n",
      "0   'gnfuv-temp-exp1-55d487b85b-5dmwq'        26           30           1   \n",
      "1   'gnfuv-temp-exp1-55d487b85b-5dmwq'        25           30           1   \n",
      "2   'gnfuv-temp-exp1-55d487b85b-5dmwq'        25           30           1   \n",
      "3   'gnfuv-temp-exp1-55d487b85b-5dmwq'        25           30           1   \n",
      "4   'gnfuv-temp-exp1-55d487b85b-5dmwq'        25           30           1   \n",
      "\n",
      "                            time   Pi  \n",
      "0  2018-07-20 11:59:44.533826000  pi5  \n",
      "1  2018-07-20 11:59:51.217489000  pi5  \n",
      "2  2018-07-20 11:59:57.856444000  pi5  \n",
      "3  2018-07-20 12:00:04.496282000  pi5  \n",
      "4  2018-07-20 12:00:11.136256000  pi5  \n"
     ]
    }
   ],
   "source": [
    "print(df.head())"
   ]
  },
  {
   "cell_type": "code",
   "execution_count": null,
   "id": "innovative-monkey",
   "metadata": {},
   "outputs": [],
   "source": []
  },
  {
   "cell_type": "code",
   "execution_count": 20,
   "id": "caroline-metropolitan",
   "metadata": {},
   "outputs": [
    {
     "data": {
      "text/plain": [
       "[<matplotlib.lines.Line2D at 0x7f48b1b58ba8>]"
      ]
     },
     "execution_count": 20,
     "metadata": {},
     "output_type": "execute_result"
    },
    {
     "data": {
      "image/png": "[encoded data removed]",
      "text/plain": [
       "<Figure size 432x288 with 1 Axes>"
      ]
     },
     "metadata": {
      "needs_background": "light"
     },
     "output_type": "display_data"
    }
   ],
   "source": [
    "import matplotlib.pyplot as plt\n",
    "plt.plot(df['Temperature'])"
   ]
  },
  {
   "cell_type": "code",
   "execution_count": 18,
   "id": "radio-casino",
   "metadata": {},
   "outputs": [
    {
     "data": {
      "text/plain": [
       "(899,)"
      ]
     },
     "execution_count": 18,
     "metadata": {},
     "output_type": "execute_result"
    }
   ],
   "source": [
    "df['Humidity'].shape"
   ]
  },
  {
   "cell_type": "code",
   "execution_count": 19,
   "id": "necessary-gospel",
   "metadata": {},
   "outputs": [
    {
     "data": {
      "text/plain": [
       "(899,)"
      ]
     },
     "execution_count": 19,
     "metadata": {},
     "output_type": "execute_result"
    }
   ],
   "source": [
    "df['Temperature'].shape"
   ]
  },
  {
   "cell_type": "code",
   "execution_count": 32,
   "id": "attended-oakland",
   "metadata": {},
   "outputs": [],
   "source": [
    "H = df['Humidity'].values.reshape([-1,1])"
   ]
  },
  {
   "cell_type": "code",
   "execution_count": 33,
   "id": "aggregate-satin",
   "metadata": {},
   "outputs": [
    {
     "name": "stdout",
     "output_type": "stream",
     "text": [
      "(899, 1)\n"
     ]
    }
   ],
   "source": [
    "print(H.shape)"
   ]
  },
  {
   "cell_type": "code",
   "execution_count": null,
   "id": "extra-north",
   "metadata": {},
   "outputs": [],
   "source": []
  }
 ],
 "metadata": {
  "kernelspec": {
   "display_name": "Python 3",
   "language": "python",
   "name": "python3"
  },
  "language_info": {
   "codemirror_mode": {
    "name": "ipython",
    "version": 3
   },
   "file_extension": ".py",
   "mimetype": "text/x-python",
   "name": "python",
   "nbconvert_exporter": "python",
   "pygments_lexer": "ipython3",
   "version": "3.6.12"
  }
 },
 "nbformat": 4,
 "nbformat_minor": 5
}
